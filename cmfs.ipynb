{
 "cells": [
  {
   "cell_type": "markdown",
   "metadata": {},
   "source": [
    "# Implementation of the CMFS algorithm for feature selection"
   ]
  },
  {
   "cell_type": "raw",
   "metadata": {},
   "source": [
    "Authors: Abhirav Gholba\n",
    "         Bhargav Srinivasa\n",
    "         Devashish Deshpande\n",
    "         Gauri Kholkar"
   ]
  },
  {
   "cell_type": "markdown",
   "metadata": {},
   "source": [
    "### Toy implementation"
   ]
  },
  {
   "cell_type": "code",
   "execution_count": 11,
   "metadata": {
    "collapsed": true
   },
   "outputs": [],
   "source": [
    "from gensim.corpora import mmcorpus, Dictionary\n",
    "import numpy as np\n",
    "import operator"
   ]
  },
  {
   "cell_type": "code",
   "execution_count": 12,
   "metadata": {
    "collapsed": false
   },
   "outputs": [],
   "source": [
    "texts = [['human', 'interface', 'computer'],\n",
    "         ['survey', 'user', 'computer', 'system', 'response', 'time'],\n",
    "         ['eps', 'user', 'interface', 'system'],\n",
    "         ['system', 'human', 'system', 'eps'],\n",
    "         ['user', 'response', 'time'],\n",
    "         ['trees'],\n",
    "         ['graph', 'trees'],\n",
    "         ['graph', 'minors', 'trees'],\n",
    "         ['graph', 'minors', 'survey']]\n",
    "\n",
    "dictionary = Dictionary(texts)\n",
    "corpus = [dictionary.doc2bow(text) for text in texts]"
   ]
  },
  {
   "cell_type": "markdown",
   "metadata": {},
   "source": [
    "### Rows are all the unique tokens, columns are all the documents"
   ]
  },
  {
   "cell_type": "code",
   "execution_count": 13,
   "metadata": {
    "collapsed": false
   },
   "outputs": [
    {
     "name": "stdout",
     "output_type": "stream",
     "text": [
      "rows : 12\n",
      "cols : 9\n"
     ]
    }
   ],
   "source": [
    "rows = len(dictionary.keys())\n",
    "cols = dictionary.num_docs\n",
    "print \"rows : {0}\\ncols : {1}\".format(rows, cols)"
   ]
  },
  {
   "cell_type": "markdown",
   "metadata": {},
   "source": [
    "### Initialize matrix"
   ]
  },
  {
   "cell_type": "code",
   "execution_count": 14,
   "metadata": {
    "collapsed": false
   },
   "outputs": [
    {
     "name": "stdout",
     "output_type": "stream",
     "text": [
      "[[ 0.  0.  0.  0.  0.  0.  0.  0.  0.]\n",
      " [ 0.  0.  0.  0.  0.  0.  0.  0.  0.]\n",
      " [ 0.  0.  0.  0.  0.  0.  0.  0.  0.]\n",
      " [ 0.  0.  0.  0.  0.  0.  0.  0.  0.]\n",
      " [ 0.  0.  0.  0.  0.  0.  0.  0.  0.]\n",
      " [ 0.  0.  0.  0.  0.  0.  0.  0.  0.]\n",
      " [ 0.  0.  0.  0.  0.  0.  0.  0.  0.]\n",
      " [ 0.  0.  0.  0.  0.  0.  0.  0.  0.]\n",
      " [ 0.  0.  0.  0.  0.  0.  0.  0.  0.]\n",
      " [ 0.  0.  0.  0.  0.  0.  0.  0.  0.]\n",
      " [ 0.  0.  0.  0.  0.  0.  0.  0.  0.]\n",
      " [ 0.  0.  0.  0.  0.  0.  0.  0.  0.]]\n"
     ]
    }
   ],
   "source": [
    "matrix = np.zeros((rows, cols))\n",
    "print matrix"
   ]
  },
  {
   "cell_type": "markdown",
   "metadata": {},
   "source": [
    "### Algorithm"
   ]
  },
  {
   "cell_type": "markdown",
   "metadata": {},
   "source": [
    "For each term, CMFS is calculated for each document as:\n",
    "CMFS(t_k, c_i) = [(tf(t_k, c_i) + 1) ^ 2] / [(tf(t_k) + num_docs) * (tf(t, c_i) + num_terms)]"
   ]
  },
  {
   "cell_type": "markdown",
   "metadata": {},
   "source": [
    "### Perform first pass. Create term-to-category feature-appearance matrix"
   ]
  },
  {
   "cell_type": "code",
   "execution_count": 15,
   "metadata": {
    "collapsed": false
   },
   "outputs": [
    {
     "name": "stdout",
     "output_type": "stream",
     "text": [
      "[[ 1.  0.  1.  0.  0.  0.  0.  0.  0.]\n",
      " [ 1.  1.  0.  0.  0.  0.  0.  0.  0.]\n",
      " [ 1.  0.  0.  1.  0.  0.  0.  0.  0.]\n",
      " [ 0.  1.  0.  0.  1.  0.  0.  0.  0.]\n",
      " [ 0.  1.  0.  0.  1.  0.  0.  0.  0.]\n",
      " [ 0.  1.  0.  0.  0.  0.  0.  0.  1.]\n",
      " [ 0.  1.  1.  2.  0.  0.  0.  0.  0.]\n",
      " [ 0.  1.  1.  0.  1.  0.  0.  0.  0.]\n",
      " [ 0.  0.  1.  1.  0.  0.  0.  0.  0.]\n",
      " [ 0.  0.  0.  0.  0.  1.  1.  1.  0.]\n",
      " [ 0.  0.  0.  0.  0.  0.  1.  1.  1.]\n",
      " [ 0.  0.  0.  0.  0.  0.  0.  1.  1.]]\n"
     ]
    }
   ],
   "source": [
    "# Step 1: Obtain sum of all features in category c_i\n",
    "# Step 2: Obtain frequency of feature t_k in the entire training set\n",
    "# Step 3: Obtain frequency of t_k in category c_i\n",
    "# First two steps can be performed later by acting on the matrix.\n",
    "for docno, doc in enumerate(corpus):\n",
    "    for term, freq in doc:\n",
    "        matrix[term][docno] = freq\n",
    "\n",
    "print matrix"
   ]
  },
  {
   "cell_type": "markdown",
   "metadata": {},
   "source": [
    "### Calculate CMFS for each term for each category"
   ]
  },
  {
   "cell_type": "code",
   "execution_count": 16,
   "metadata": {
    "collapsed": false
   },
   "outputs": [
    {
     "name": "stdout",
     "output_type": "stream",
     "text": [
      "[[ 0.02424242  0.00505051  0.02272727  0.00568182  0.00606061  0.00699301\n",
      "   0.00649351  0.00606061  0.00606061]\n",
      " [ 0.02424242  0.02020202  0.00568182  0.00568182  0.00606061  0.00699301\n",
      "   0.00649351  0.00606061  0.00606061]\n",
      " [ 0.02424242  0.00505051  0.00568182  0.02272727  0.00606061  0.00699301\n",
      "   0.00649351  0.00606061  0.00606061]\n",
      " [ 0.00606061  0.02020202  0.00568182  0.00568182  0.02424242  0.00699301\n",
      "   0.00649351  0.00606061  0.00606061]\n",
      " [ 0.00606061  0.02020202  0.00568182  0.00568182  0.02424242  0.00699301\n",
      "   0.00649351  0.00606061  0.00606061]\n",
      " [ 0.00606061  0.02020202  0.00568182  0.00568182  0.00606061  0.00699301\n",
      "   0.00649351  0.00606061  0.02424242]\n",
      " [ 0.00512821  0.01709402  0.01923077  0.04326923  0.00512821  0.00591716\n",
      "   0.00549451  0.00512821  0.00512821]\n",
      " [ 0.00555556  0.01851852  0.02083333  0.00520833  0.02222222  0.00641026\n",
      "   0.00595238  0.00555556  0.00555556]\n",
      " [ 0.00606061  0.00505051  0.02272727  0.02272727  0.00606061  0.00699301\n",
      "   0.00649351  0.00606061  0.00606061]\n",
      " [ 0.00555556  0.00462963  0.00520833  0.00520833  0.00555556  0.02564103\n",
      "   0.02380952  0.02222222  0.00555556]\n",
      " [ 0.00555556  0.00462963  0.00520833  0.00520833  0.00555556  0.00641026\n",
      "   0.02380952  0.02222222  0.02222222]\n",
      " [ 0.00606061  0.00505051  0.00568182  0.00568182  0.00606061  0.00699301\n",
      "   0.00649351  0.02424242  0.02424242]]\n"
     ]
    }
   ],
   "source": [
    "# Calculate total number of terms in each doc\n",
    "term_freq_per_doc = np.cumsum(matrix, axis=0)[-1, :]\n",
    "for term in range(rows):\n",
    "    # Frequency of the term across all docs\n",
    "    total_term_freq = sum(matrix[term, :])\n",
    "    for doc in range(cols):\n",
    "        numerator = float((matrix[term][doc] + 1) ** 2)\n",
    "        denominator = (total_term_freq + cols) * (term_freq_per_doc[doc] + rows)\n",
    "        matrix[term][doc] = numerator / denominator\n",
    "        \n",
    "# Final CMFS matrix\n",
    "print matrix"
   ]
  },
  {
   "cell_type": "markdown",
   "metadata": {},
   "source": [
    "### Extract top 5 features"
   ]
  },
  {
   "cell_type": "markdown",
   "metadata": {},
   "source": [
    " ### Formula used here to get CMFS is: CMFS_max(t_k) = max CMFS of term over all docs"
   ]
  },
  {
   "cell_type": "code",
   "execution_count": 17,
   "metadata": {
    "collapsed": false
   },
   "outputs": [
    {
     "name": "stdout",
     "output_type": "stream",
     "text": [
      "{u'minors': 0.024242424242424242, u'graph': 0.023809523809523808, u'system': 0.043269230769230768, u'trees': 0.02564102564102564, u'eps': 0.022727272727272728, u'computer': 0.024242424242424242, u'survey': 0.024242424242424242, u'user': 0.022222222222222223, u'human': 0.024242424242424242, u'time': 0.024242424242424242, u'interface': 0.024242424242424242, u'response': 0.024242424242424242}\n"
     ]
    }
   ],
   "source": [
    "term_cmfs_dict = {}\n",
    "cmfs_max = np.max(matrix, axis=1)\n",
    "for i in range(rows):\n",
    "    term = dictionary[i]\n",
    "    term_cmfs_dict[term] = cmfs_max[i]\n",
    "\n",
    "print term_cmfs_dict"
   ]
  },
  {
   "cell_type": "markdown",
   "metadata": {},
   "source": [
    "### To extract top 5 features, simply select the terms with top 5 CMFS scores"
   ]
  },
  {
   "cell_type": "code",
   "execution_count": 18,
   "metadata": {
    "collapsed": false
   },
   "outputs": [
    {
     "name": "stdout",
     "output_type": "stream",
     "text": [
      "-------Selected features are-------\n",
      "\n",
      "Term: system \t CMFS: 0.0432692307692\n",
      "Term: trees \t CMFS: 0.025641025641\n",
      "Term: minors \t CMFS: 0.0242424242424\n",
      "Term: computer \t CMFS: 0.0242424242424\n",
      "Term: survey \t CMFS: 0.0242424242424\n"
     ]
    }
   ],
   "source": [
    "sorted_feature_list = sorted(term_cmfs_dict.items(), key=operator.itemgetter(1), reverse=True)[:5]\n",
    "print \"-------Selected features are-------\\n\"\n",
    "for term, cmfs in sorted_feature_list:\n",
    "    print \"Term: {0} \\t CMFS: {1}\".format(term, cmfs)"
   ]
  }
 ],
 "metadata": {
  "kernelspec": {
   "display_name": "Python 2",
   "language": "python",
   "name": "python2"
  },
  "language_info": {
   "codemirror_mode": {
    "name": "ipython",
    "version": 2
   },
   "file_extension": ".py",
   "mimetype": "text/x-python",
   "name": "python",
   "nbconvert_exporter": "python",
   "pygments_lexer": "ipython2",
   "version": "2.7.11"
  }
 },
 "nbformat": 4,
 "nbformat_minor": 0
}
